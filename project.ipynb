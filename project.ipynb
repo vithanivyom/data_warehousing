{
 "cells": [
  {
   "cell_type": "code",
   "execution_count": null,
   "metadata": {},
   "outputs": [
    {
     "name": "stdout",
     "output_type": "stream",
     "text": [
      "Duplicate columns detected: {'Day of week', 'National Road Type', 'Speed Limit', 'Crash Type', 'National Remoteness Areas', 'Year', 'National LGA Name 2021', 'Easter Period', 'Dayweek', 'Month', 'Articulated Truck Involvement', 'SA4 Name 2021', 'State', 'Heavy Rigid Truck Involvement', 'Time', 'Christmas Period'}\n",
      "Merged and cleaned file saved as 'updated1.csv'\n"
     ]
    }
   ],
   "source": [
    "import pandas as pd\n",
    "\n",
    "# File paths\n",
    "file1_path = \"bitre_fatal_crashes_dec2024.xlsx\"  # Update with actual path\n",
    "file2_path = \"bitre_fatalities_dec2024.xlsx\"  # Update with actual path\n",
    "\n",
    "# Load the Excel files\n",
    "df_crashes = pd.read_excel(file1_path)\n",
    "df_fatalities = pd.read_excel(file2_path)\n",
    "\n",
    "# Merge both datasets on 'Crash ID', keeping all unique columns\n",
    "merged_df = pd.merge(df_crashes, df_fatalities, on=\"Crash ID\", how=\"outer\", suffixes=('_x', '_y'))\n",
    "\n",
    "# Identify duplicate columns after merging (those that have \"_x\" and \"_y\" suffixes)\n",
    "duplicate_columns = set(df_crashes.columns).intersection(set(df_fatalities.columns)) - {\"Crash ID\"}\n",
    "print(\"Duplicate columns detected:\", duplicate_columns)\n",
    "\n",
    "# Remove duplicate columns if they are identical in both datasets\n",
    "for col in duplicate_columns:\n",
    "    col_x = col + \"_x\"\n",
    "    col_y = col + \"_y\"\n",
    "    \n",
    "    if col_x in merged_df.columns and col_y in merged_df.columns:\n",
    "            merged_df[col] = merged_df[col_x]  # Keep one version\n",
    "            merged_df.drop(columns=[col_x, col_y], inplace=True)  # Drop the redundant columns\n",
    "\n",
    "# Save the cleaned merged data\n",
    "merged_df.to_csv(\"updated1.csv\", index=False)\n"
   ]
  }
 ],
 "metadata": {
  "kernelspec": {
   "display_name": ".venv",
   "language": "python",
   "name": "python3"
  },
  "language_info": {
   "codemirror_mode": {
    "name": "ipython",
    "version": 3
   },
   "file_extension": ".py",
   "mimetype": "text/x-python",
   "name": "python",
   "nbconvert_exporter": "python",
   "pygments_lexer": "ipython3",
   "version": "3.12.2"
  }
 },
 "nbformat": 4,
 "nbformat_minor": 2
}
